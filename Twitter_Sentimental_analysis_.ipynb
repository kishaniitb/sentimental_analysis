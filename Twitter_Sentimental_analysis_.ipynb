{
  "nbformat": 4,
  "nbformat_minor": 0,
  "metadata": {
    "colab": {
      "name": "Twitter Sentimental analysis .ipynb",
      "provenance": []
    },
    "kernelspec": {
      "name": "python3",
      "display_name": "Python 3"
    },
    "language_info": {
      "name": "python"
    }
  },
  "cells": [
    {
      "cell_type": "code",
      "execution_count": null,
      "metadata": {
        "id": "RfRbLBHzwhQt"
      },
      "outputs": [],
      "source": [
        "# Description : This is a sentimental analysis program that parses the tweet fetched from twitter."
      ]
    },
    {
      "cell_type": "code",
      "source": [
        "import numpy as np\n",
        "import matplotlib.pyplot as plt\n",
        "import seaborn as sns\n",
        "import pandas as pd\n",
        "import scipy "
      ],
      "metadata": {
        "id": "Uuz6x15tyAN5"
      },
      "execution_count": null,
      "outputs": []
    },
    {
      "cell_type": "code",
      "source": [
        "import tweepy #an easy to use pyhton library for acessing the twitter api\n",
        "from textblob import TextBlob #TextBlob is an open-source Python library that is very easy to use for processing text data.. It offers many built-in methods for common natural language processing tasks\n",
        "from wordcloud import WordCloud #A word cloud is a visually prominent presentation of “keywords” that appear frequently in text data. The rendering of keywords forms a cloud-like color picture, so that you can appreciate the main text data at a glance.\n",
        "import re # regular expression\n"
      ],
      "metadata": {
        "id": "UnPEwQ7xyopg"
      },
      "execution_count": null,
      "outputs": []
    },
    {
      "cell_type": "code",
      "source": [
        "#load the data\n",
        "from google.colab import files\n",
        "uploaded = files.upload()\n"
      ],
      "metadata": {
        "colab": {
          "resources": {
            "http://localhost:8080/nbextensions/google.colab/files.js": {
              "data": "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",
              "ok": true,
              "headers": [
                [
                  "content-type",
                  "application/javascript"
                ]
              ],
              "status": 200,
              "status_text": ""
            }
          },
          "base_uri": "https://localhost:8080/",
          "height": 73
        },
        "id": "nVdq8LVI1NCx",
        "outputId": "4d002fed-c9da-4f70-f83f-6ef3605309cf"
      },
      "execution_count": null,
      "outputs": [
        {
          "output_type": "display_data",
          "data": {
            "text/plain": [
              "<IPython.core.display.HTML object>"
            ],
            "text/html": [
              "\n",
              "     <input type=\"file\" id=\"files-a04820f4-2a99-4964-818b-36ed9ea43016\" name=\"files[]\" multiple disabled\n",
              "        style=\"border:none\" />\n",
              "     <output id=\"result-a04820f4-2a99-4964-818b-36ed9ea43016\">\n",
              "      Upload widget is only available when the cell has been executed in the\n",
              "      current browser session. Please rerun this cell to enable.\n",
              "      </output>\n",
              "      <script src=\"/nbextensions/google.colab/files.js\"></script> "
            ]
          },
          "metadata": {}
        },
        {
          "output_type": "stream",
          "name": "stdout",
          "text": [
            "Saving test.csv to test.csv\n"
          ]
        }
      ]
    },
    {
      "cell_type": "code",
      "source": [
        "#get the data\n",
        "test = pd.read_csv(\"test.csv\")"
      ],
      "metadata": {
        "id": "PBO_dwdz9hbk"
      },
      "execution_count": null,
      "outputs": []
    },
    {
      "cell_type": "code",
      "source": [
        "test = test.head(200)\n"
      ],
      "metadata": {
        "id": "lQUMOqp7jqwG"
      },
      "execution_count": null,
      "outputs": []
    },
    {
      "cell_type": "code",
      "source": [
        "test.shape"
      ],
      "metadata": {
        "colab": {
          "base_uri": "https://localhost:8080/"
        },
        "id": "9_dSLcd_jxPW",
        "outputId": "b6d8490a-20ce-4bef-c116-88f1988cdbc1"
      },
      "execution_count": null,
      "outputs": [
        {
          "output_type": "execute_result",
          "data": {
            "text/plain": [
              "(200, 2)"
            ]
          },
          "metadata": {},
          "execution_count": 7
        }
      ]
    },
    {
      "cell_type": "code",
      "source": [
        "df = test.drop(columns= ['id']) # just drop the id column of the dataframe"
      ],
      "metadata": {
        "id": "z3HAcFM6kENf"
      },
      "execution_count": null,
      "outputs": []
    },
    {
      "cell_type": "code",
      "source": [
        "df\n",
        "\n"
      ],
      "metadata": {
        "colab": {
          "base_uri": "https://localhost:8080/",
          "height": 424
        },
        "id": "_ZrdekKX-6J6",
        "outputId": "c09f91f1-3a73-44be-8fca-01198ec8aae2"
      },
      "execution_count": null,
      "outputs": [
        {
          "output_type": "execute_result",
          "data": {
            "text/plain": [
              "                                                 tweet\n",
              "0    #studiolife #aislife #requires #passion #dedic...\n",
              "1     @user #white #supremacists want everyone to s...\n",
              "2    safe ways to heal your #acne!!    #altwaystohe...\n",
              "3    is the hp and the cursed child book up for res...\n",
              "4      3rd #bihday to my amazing, hilarious #nephew...\n",
              "..                                                 ...\n",
              "195  can #lighttherapy help with   or #depression? ...\n",
              "196      aww yeah it's all good bing bong bing bong   \n",
              "197  selfie srelfie! #smile   #me #selfie #followme...\n",
              "198  how vera rubin overcame  and invented a whole ...\n",
              "199   @user .@user @user @user @user so sorry to re...\n",
              "\n",
              "[200 rows x 1 columns]"
            ],
            "text/html": [
              "\n",
              "  <div id=\"df-e6f3f2ab-3699-4933-b5a0-66e0fbc51f34\">\n",
              "    <div class=\"colab-df-container\">\n",
              "      <div>\n",
              "<style scoped>\n",
              "    .dataframe tbody tr th:only-of-type {\n",
              "        vertical-align: middle;\n",
              "    }\n",
              "\n",
              "    .dataframe tbody tr th {\n",
              "        vertical-align: top;\n",
              "    }\n",
              "\n",
              "    .dataframe thead th {\n",
              "        text-align: right;\n",
              "    }\n",
              "</style>\n",
              "<table border=\"1\" class=\"dataframe\">\n",
              "  <thead>\n",
              "    <tr style=\"text-align: right;\">\n",
              "      <th></th>\n",
              "      <th>tweet</th>\n",
              "    </tr>\n",
              "  </thead>\n",
              "  <tbody>\n",
              "    <tr>\n",
              "      <th>0</th>\n",
              "      <td>#studiolife #aislife #requires #passion #dedic...</td>\n",
              "    </tr>\n",
              "    <tr>\n",
              "      <th>1</th>\n",
              "      <td>@user #white #supremacists want everyone to s...</td>\n",
              "    </tr>\n",
              "    <tr>\n",
              "      <th>2</th>\n",
              "      <td>safe ways to heal your #acne!!    #altwaystohe...</td>\n",
              "    </tr>\n",
              "    <tr>\n",
              "      <th>3</th>\n",
              "      <td>is the hp and the cursed child book up for res...</td>\n",
              "    </tr>\n",
              "    <tr>\n",
              "      <th>4</th>\n",
              "      <td>3rd #bihday to my amazing, hilarious #nephew...</td>\n",
              "    </tr>\n",
              "    <tr>\n",
              "      <th>...</th>\n",
              "      <td>...</td>\n",
              "    </tr>\n",
              "    <tr>\n",
              "      <th>195</th>\n",
              "      <td>can #lighttherapy help with   or #depression? ...</td>\n",
              "    </tr>\n",
              "    <tr>\n",
              "      <th>196</th>\n",
              "      <td>aww yeah it's all good bing bong bing bong</td>\n",
              "    </tr>\n",
              "    <tr>\n",
              "      <th>197</th>\n",
              "      <td>selfie srelfie! #smile   #me #selfie #followme...</td>\n",
              "    </tr>\n",
              "    <tr>\n",
              "      <th>198</th>\n",
              "      <td>how vera rubin overcame  and invented a whole ...</td>\n",
              "    </tr>\n",
              "    <tr>\n",
              "      <th>199</th>\n",
              "      <td>@user .@user @user @user @user so sorry to re...</td>\n",
              "    </tr>\n",
              "  </tbody>\n",
              "</table>\n",
              "<p>200 rows × 1 columns</p>\n",
              "</div>\n",
              "      <button class=\"colab-df-convert\" onclick=\"convertToInteractive('df-e6f3f2ab-3699-4933-b5a0-66e0fbc51f34')\"\n",
              "              title=\"Convert this dataframe to an interactive table.\"\n",
              "              style=\"display:none;\">\n",
              "        \n",
              "  <svg xmlns=\"http://www.w3.org/2000/svg\" height=\"24px\"viewBox=\"0 0 24 24\"\n",
              "       width=\"24px\">\n",
              "    <path d=\"M0 0h24v24H0V0z\" fill=\"none\"/>\n",
              "    <path d=\"M18.56 5.44l.94 2.06.94-2.06 2.06-.94-2.06-.94-.94-2.06-.94 2.06-2.06.94zm-11 1L8.5 8.5l.94-2.06 2.06-.94-2.06-.94L8.5 2.5l-.94 2.06-2.06.94zm10 10l.94 2.06.94-2.06 2.06-.94-2.06-.94-.94-2.06-.94 2.06-2.06.94z\"/><path d=\"M17.41 7.96l-1.37-1.37c-.4-.4-.92-.59-1.43-.59-.52 0-1.04.2-1.43.59L10.3 9.45l-7.72 7.72c-.78.78-.78 2.05 0 2.83L4 21.41c.39.39.9.59 1.41.59.51 0 1.02-.2 1.41-.59l7.78-7.78 2.81-2.81c.8-.78.8-2.07 0-2.86zM5.41 20L4 18.59l7.72-7.72 1.47 1.35L5.41 20z\"/>\n",
              "  </svg>\n",
              "      </button>\n",
              "      \n",
              "  <style>\n",
              "    .colab-df-container {\n",
              "      display:flex;\n",
              "      flex-wrap:wrap;\n",
              "      gap: 12px;\n",
              "    }\n",
              "\n",
              "    .colab-df-convert {\n",
              "      background-color: #E8F0FE;\n",
              "      border: none;\n",
              "      border-radius: 50%;\n",
              "      cursor: pointer;\n",
              "      display: none;\n",
              "      fill: #1967D2;\n",
              "      height: 32px;\n",
              "      padding: 0 0 0 0;\n",
              "      width: 32px;\n",
              "    }\n",
              "\n",
              "    .colab-df-convert:hover {\n",
              "      background-color: #E2EBFA;\n",
              "      box-shadow: 0px 1px 2px rgba(60, 64, 67, 0.3), 0px 1px 3px 1px rgba(60, 64, 67, 0.15);\n",
              "      fill: #174EA6;\n",
              "    }\n",
              "\n",
              "    [theme=dark] .colab-df-convert {\n",
              "      background-color: #3B4455;\n",
              "      fill: #D2E3FC;\n",
              "    }\n",
              "\n",
              "    [theme=dark] .colab-df-convert:hover {\n",
              "      background-color: #434B5C;\n",
              "      box-shadow: 0px 1px 3px 1px rgba(0, 0, 0, 0.15);\n",
              "      filter: drop-shadow(0px 1px 2px rgba(0, 0, 0, 0.3));\n",
              "      fill: #FFFFFF;\n",
              "    }\n",
              "  </style>\n",
              "\n",
              "      <script>\n",
              "        const buttonEl =\n",
              "          document.querySelector('#df-e6f3f2ab-3699-4933-b5a0-66e0fbc51f34 button.colab-df-convert');\n",
              "        buttonEl.style.display =\n",
              "          google.colab.kernel.accessAllowed ? 'block' : 'none';\n",
              "\n",
              "        async function convertToInteractive(key) {\n",
              "          const element = document.querySelector('#df-e6f3f2ab-3699-4933-b5a0-66e0fbc51f34');\n",
              "          const dataTable =\n",
              "            await google.colab.kernel.invokeFunction('convertToInteractive',\n",
              "                                                     [key], {});\n",
              "          if (!dataTable) return;\n",
              "\n",
              "          const docLinkHtml = 'Like what you see? Visit the ' +\n",
              "            '<a target=\"_blank\" href=https://colab.research.google.com/notebooks/data_table.ipynb>data table notebook</a>'\n",
              "            + ' to learn more about interactive tables.';\n",
              "          element.innerHTML = '';\n",
              "          dataTable['output_type'] = 'display_data';\n",
              "          await google.colab.output.renderOutput(dataTable, element);\n",
              "          const docLink = document.createElement('div');\n",
              "          docLink.innerHTML = docLinkHtml;\n",
              "          element.appendChild(docLink);\n",
              "        }\n",
              "      </script>\n",
              "    </div>\n",
              "  </div>\n",
              "  "
            ]
          },
          "metadata": {},
          "execution_count": 9
        }
      ]
    },
    {
      "cell_type": "code",
      "source": [
        "df['tweet']"
      ],
      "metadata": {
        "colab": {
          "base_uri": "https://localhost:8080/"
        },
        "id": "uRoTdMwsCehc",
        "outputId": "e3cd1053-ff48-4c03-82a2-758a16d7a962"
      },
      "execution_count": null,
      "outputs": [
        {
          "output_type": "execute_result",
          "data": {
            "text/plain": [
              "0      #studiolife #aislife #requires #passion #dedic...\n",
              "1       @user #white #supremacists want everyone to s...\n",
              "2      safe ways to heal your #acne!!    #altwaystohe...\n",
              "3      is the hp and the cursed child book up for res...\n",
              "4        3rd #bihday to my amazing, hilarious #nephew...\n",
              "                             ...                        \n",
              "195    can #lighttherapy help with   or #depression? ...\n",
              "196        aww yeah it's all good bing bong bing bong   \n",
              "197    selfie srelfie! #smile   #me #selfie #followme...\n",
              "198    how vera rubin overcame  and invented a whole ...\n",
              "199     @user .@user @user @user @user so sorry to re...\n",
              "Name: tweet, Length: 200, dtype: object"
            ]
          },
          "metadata": {},
          "execution_count": 10
        }
      ]
    },
    {
      "cell_type": "code",
      "source": [
        "#clean the text beacuse the text contain lot of data like @,#,links and all.\n",
        "def cleanTxt(text):\n",
        "  text = re.sub(r'@[A-Za-z0-9]+','',text) #removed @mentions\n",
        "  text = re.sub(r'#','',text) #removing the '#' symbol\n",
        "  text = re.sub(r'RT[\\s]+','',text)  #removing RT \n",
        "  text = re.sub(r'https?:\\/\\/\\S','',text) #remove the hyperlink    \n",
        "\n",
        "  return text\n",
        "  \n",
        "\n",
        "\n",
        "\n"
      ],
      "metadata": {
        "id": "mfHE_0TPk8lK"
      },
      "execution_count": null,
      "outputs": []
    },
    {
      "cell_type": "code",
      "source": [
        "df['tweet'] = df['tweet'].map(cleanTxt) #cleaning the text"
      ],
      "metadata": {
        "id": "bPRElRcb9WHa"
      },
      "execution_count": null,
      "outputs": []
    },
    {
      "cell_type": "code",
      "source": [
        "df['tweet'] # cleaned text"
      ],
      "metadata": {
        "colab": {
          "base_uri": "https://localhost:8080/"
        },
        "id": "XJNwVo6u-OPK",
        "outputId": "5685036b-5854-45da-ecaa-69fbf9cb7ef5"
      },
      "execution_count": null,
      "outputs": [
        {
          "output_type": "execute_result",
          "data": {
            "text/plain": [
              "0      studiolife aislife requires passion dedication...\n",
              "1        white supremacists want everyone to see the ...\n",
              "2      safe ways to heal your acne!!    altwaystoheal...\n",
              "3      is the hp and the cursed child book up for res...\n",
              "4        3rd bihday to my amazing, hilarious nephew e...\n",
              "                             ...                        \n",
              "195    can lighttherapy help with   or depression?   ...\n",
              "196        aww yeah it's all good bing bong bing bong   \n",
              "197    selfie srelfie! smile   me selfie followme f4f...\n",
              "198    how vera rubin overcame  and invented a whole ...\n",
              "199      .    so sorry to read this after so much pain  \n",
              "Name: tweet, Length: 200, dtype: object"
            ]
          },
          "metadata": {},
          "execution_count": 13
        }
      ]
    },
    {
      "cell_type": "markdown",
      "source": [
        " polar emotions (positive, negative, neutral)TextBlob performs different operations on textual data such as noun phrase extraction, sentiment analysis, classification, translation, etc.Polarity is a float value within the range [-1.0 to 1.0] where 0 indicates neutral, +1 indicates a very positive sentiment and -1 represents a very negative sentiment.\n",
        "\n",
        "Subjectivity is a float value within the range [0.0 to 1.0] where 0.0 is very objective and 1.0 is very subjective. Subjective sentence expresses some personal feelings, views, beliefs, opinions, allegations, desires, beliefs, suspicions, and speculations where as Objective sentences are factual.\n",
        "\n"
      ],
      "metadata": {
        "id": "X935Q5OkKbp8"
      }
    },
    {
      "cell_type": "code",
      "source": [
        "# create a function to get the subjectivity\n",
        "def getSubjectivity(text):\n",
        "  return TextBlob(text).sentiment.subjectivity\n",
        "# create a function to get the polarity\n",
        "def getPolarity(text)  :\n",
        "  return TextBlob(text).sentiment.polarity\n"
      ],
      "metadata": {
        "id": "aJmuuMLoDOvd"
      },
      "execution_count": null,
      "outputs": []
    },
    {
      "cell_type": "code",
      "source": [
        "#create two new columns\n",
        "df['Subjectivity'] = df['tweet'].map(getSubjectivity)"
      ],
      "metadata": {
        "id": "0pAIKCMoNurv"
      },
      "execution_count": null,
      "outputs": []
    },
    {
      "cell_type": "code",
      "source": [
        "df['Polarity'] = df['tweet'].map(getPolarity)"
      ],
      "metadata": {
        "id": "7i6LBrLUOtcj"
      },
      "execution_count": null,
      "outputs": []
    },
    {
      "cell_type": "code",
      "source": [
        "df"
      ],
      "metadata": {
        "colab": {
          "base_uri": "https://localhost:8080/",
          "height": 424
        },
        "id": "IrpXlqbvPH_k",
        "outputId": "64f89fed-beec-4dda-ccf1-92fc3fcd7b94"
      },
      "execution_count": null,
      "outputs": [
        {
          "output_type": "execute_result",
          "data": {
            "text/plain": [
              "                                                 tweet  Subjectivity  Polarity\n",
              "0    studiolife aislife requires passion dedication...      0.000000  0.000000\n",
              "1      white supremacists want everyone to see the ...      0.227273  0.068182\n",
              "2    safe ways to heal your acne!!    altwaystoheal...      0.500000  0.781250\n",
              "3    is the hp and the cursed child book up for res...      1.000000  0.500000\n",
              "4      3rd bihday to my amazing, hilarious nephew e...      0.633333  0.408333\n",
              "..                                                 ...           ...       ...\n",
              "195  can lighttherapy help with   or depression?   ...      0.750000  0.750000\n",
              "196      aww yeah it's all good bing bong bing bong         0.750000  0.500000\n",
              "197  selfie srelfie! smile   me selfie followme f4f...      0.100000  0.300000\n",
              "198  how vera rubin overcame  and invented a whole ...      0.400000  0.200000\n",
              "199    .    so sorry to read this after so much pain        0.600000 -0.150000\n",
              "\n",
              "[200 rows x 3 columns]"
            ],
            "text/html": [
              "\n",
              "  <div id=\"df-a56ce077-f628-4be4-b6c3-47cf4ab36cf7\">\n",
              "    <div class=\"colab-df-container\">\n",
              "      <div>\n",
              "<style scoped>\n",
              "    .dataframe tbody tr th:only-of-type {\n",
              "        vertical-align: middle;\n",
              "    }\n",
              "\n",
              "    .dataframe tbody tr th {\n",
              "        vertical-align: top;\n",
              "    }\n",
              "\n",
              "    .dataframe thead th {\n",
              "        text-align: right;\n",
              "    }\n",
              "</style>\n",
              "<table border=\"1\" class=\"dataframe\">\n",
              "  <thead>\n",
              "    <tr style=\"text-align: right;\">\n",
              "      <th></th>\n",
              "      <th>tweet</th>\n",
              "      <th>Subjectivity</th>\n",
              "      <th>Polarity</th>\n",
              "    </tr>\n",
              "  </thead>\n",
              "  <tbody>\n",
              "    <tr>\n",
              "      <th>0</th>\n",
              "      <td>studiolife aislife requires passion dedication...</td>\n",
              "      <td>0.000000</td>\n",
              "      <td>0.000000</td>\n",
              "    </tr>\n",
              "    <tr>\n",
              "      <th>1</th>\n",
              "      <td>white supremacists want everyone to see the ...</td>\n",
              "      <td>0.227273</td>\n",
              "      <td>0.068182</td>\n",
              "    </tr>\n",
              "    <tr>\n",
              "      <th>2</th>\n",
              "      <td>safe ways to heal your acne!!    altwaystoheal...</td>\n",
              "      <td>0.500000</td>\n",
              "      <td>0.781250</td>\n",
              "    </tr>\n",
              "    <tr>\n",
              "      <th>3</th>\n",
              "      <td>is the hp and the cursed child book up for res...</td>\n",
              "      <td>1.000000</td>\n",
              "      <td>0.500000</td>\n",
              "    </tr>\n",
              "    <tr>\n",
              "      <th>4</th>\n",
              "      <td>3rd bihday to my amazing, hilarious nephew e...</td>\n",
              "      <td>0.633333</td>\n",
              "      <td>0.408333</td>\n",
              "    </tr>\n",
              "    <tr>\n",
              "      <th>...</th>\n",
              "      <td>...</td>\n",
              "      <td>...</td>\n",
              "      <td>...</td>\n",
              "    </tr>\n",
              "    <tr>\n",
              "      <th>195</th>\n",
              "      <td>can lighttherapy help with   or depression?   ...</td>\n",
              "      <td>0.750000</td>\n",
              "      <td>0.750000</td>\n",
              "    </tr>\n",
              "    <tr>\n",
              "      <th>196</th>\n",
              "      <td>aww yeah it's all good bing bong bing bong</td>\n",
              "      <td>0.750000</td>\n",
              "      <td>0.500000</td>\n",
              "    </tr>\n",
              "    <tr>\n",
              "      <th>197</th>\n",
              "      <td>selfie srelfie! smile   me selfie followme f4f...</td>\n",
              "      <td>0.100000</td>\n",
              "      <td>0.300000</td>\n",
              "    </tr>\n",
              "    <tr>\n",
              "      <th>198</th>\n",
              "      <td>how vera rubin overcame  and invented a whole ...</td>\n",
              "      <td>0.400000</td>\n",
              "      <td>0.200000</td>\n",
              "    </tr>\n",
              "    <tr>\n",
              "      <th>199</th>\n",
              "      <td>.    so sorry to read this after so much pain</td>\n",
              "      <td>0.600000</td>\n",
              "      <td>-0.150000</td>\n",
              "    </tr>\n",
              "  </tbody>\n",
              "</table>\n",
              "<p>200 rows × 3 columns</p>\n",
              "</div>\n",
              "      <button class=\"colab-df-convert\" onclick=\"convertToInteractive('df-a56ce077-f628-4be4-b6c3-47cf4ab36cf7')\"\n",
              "              title=\"Convert this dataframe to an interactive table.\"\n",
              "              style=\"display:none;\">\n",
              "        \n",
              "  <svg xmlns=\"http://www.w3.org/2000/svg\" height=\"24px\"viewBox=\"0 0 24 24\"\n",
              "       width=\"24px\">\n",
              "    <path d=\"M0 0h24v24H0V0z\" fill=\"none\"/>\n",
              "    <path d=\"M18.56 5.44l.94 2.06.94-2.06 2.06-.94-2.06-.94-.94-2.06-.94 2.06-2.06.94zm-11 1L8.5 8.5l.94-2.06 2.06-.94-2.06-.94L8.5 2.5l-.94 2.06-2.06.94zm10 10l.94 2.06.94-2.06 2.06-.94-2.06-.94-.94-2.06-.94 2.06-2.06.94z\"/><path d=\"M17.41 7.96l-1.37-1.37c-.4-.4-.92-.59-1.43-.59-.52 0-1.04.2-1.43.59L10.3 9.45l-7.72 7.72c-.78.78-.78 2.05 0 2.83L4 21.41c.39.39.9.59 1.41.59.51 0 1.02-.2 1.41-.59l7.78-7.78 2.81-2.81c.8-.78.8-2.07 0-2.86zM5.41 20L4 18.59l7.72-7.72 1.47 1.35L5.41 20z\"/>\n",
              "  </svg>\n",
              "      </button>\n",
              "      \n",
              "  <style>\n",
              "    .colab-df-container {\n",
              "      display:flex;\n",
              "      flex-wrap:wrap;\n",
              "      gap: 12px;\n",
              "    }\n",
              "\n",
              "    .colab-df-convert {\n",
              "      background-color: #E8F0FE;\n",
              "      border: none;\n",
              "      border-radius: 50%;\n",
              "      cursor: pointer;\n",
              "      display: none;\n",
              "      fill: #1967D2;\n",
              "      height: 32px;\n",
              "      padding: 0 0 0 0;\n",
              "      width: 32px;\n",
              "    }\n",
              "\n",
              "    .colab-df-convert:hover {\n",
              "      background-color: #E2EBFA;\n",
              "      box-shadow: 0px 1px 2px rgba(60, 64, 67, 0.3), 0px 1px 3px 1px rgba(60, 64, 67, 0.15);\n",
              "      fill: #174EA6;\n",
              "    }\n",
              "\n",
              "    [theme=dark] .colab-df-convert {\n",
              "      background-color: #3B4455;\n",
              "      fill: #D2E3FC;\n",
              "    }\n",
              "\n",
              "    [theme=dark] .colab-df-convert:hover {\n",
              "      background-color: #434B5C;\n",
              "      box-shadow: 0px 1px 3px 1px rgba(0, 0, 0, 0.15);\n",
              "      filter: drop-shadow(0px 1px 2px rgba(0, 0, 0, 0.3));\n",
              "      fill: #FFFFFF;\n",
              "    }\n",
              "  </style>\n",
              "\n",
              "      <script>\n",
              "        const buttonEl =\n",
              "          document.querySelector('#df-a56ce077-f628-4be4-b6c3-47cf4ab36cf7 button.colab-df-convert');\n",
              "        buttonEl.style.display =\n",
              "          google.colab.kernel.accessAllowed ? 'block' : 'none';\n",
              "\n",
              "        async function convertToInteractive(key) {\n",
              "          const element = document.querySelector('#df-a56ce077-f628-4be4-b6c3-47cf4ab36cf7');\n",
              "          const dataTable =\n",
              "            await google.colab.kernel.invokeFunction('convertToInteractive',\n",
              "                                                     [key], {});\n",
              "          if (!dataTable) return;\n",
              "\n",
              "          const docLinkHtml = 'Like what you see? Visit the ' +\n",
              "            '<a target=\"_blank\" href=https://colab.research.google.com/notebooks/data_table.ipynb>data table notebook</a>'\n",
              "            + ' to learn more about interactive tables.';\n",
              "          element.innerHTML = '';\n",
              "          dataTable['output_type'] = 'display_data';\n",
              "          await google.colab.output.renderOutput(dataTable, element);\n",
              "          const docLink = document.createElement('div');\n",
              "          docLink.innerHTML = docLinkHtml;\n",
              "          element.appendChild(docLink);\n",
              "        }\n",
              "      </script>\n",
              "    </div>\n",
              "  </div>\n",
              "  "
            ]
          },
          "metadata": {},
          "execution_count": 17
        }
      ]
    },
    {
      "cell_type": "code",
      "source": [
        "#Plot the wordcloud\n",
        "allword = ''.join([twts for twts in df['tweet']])\n"
      ],
      "metadata": {
        "id": "icDLgV5ePLH2"
      },
      "execution_count": null,
      "outputs": []
    },
    {
      "cell_type": "code",
      "source": [
        "print(allword)"
      ],
      "metadata": {
        "colab": {
          "base_uri": "https://localhost:8080/"
        },
        "id": "X3FoVCwaZS6p",
        "outputId": "11cfae43-5d89-401c-c2c1-b371c8b7ff26"
      },
      "execution_count": null,
      "outputs": [
        {
          "output_type": "stream",
          "name": "stdout",
          "text": [
            "studiolife aislife requires passion dedication willpower   to find newmaterialsâ¦   white supremacists want everyone to see the new â  birdsâ movie â and hereâs why  safe ways to heal your acne!!    altwaystoheal healthy   healing!! is the hp and the cursed child book up for reservations already? if yes, where? if no, when? ððð   harrypotter pottermore favorite  3rd bihday to my amazing, hilarious nephew eli ahmir! uncle dave loves you and missesâ¦ choose to be   :) momtips something inside me dies ð¦ð¿â¨  eyes ness smokeyeyes tired  lonely sof grungeâ¦ finishedtattooinkedinkloveitâ¤ï¸ â¤ï¸â¤ï¸â¤ï¸â¤ï¸ thanksaleeee !!!     i will never understand why my dad left me when i was so young.... :/ deep inthefeels  delicious   food lovelife capetown mannaepicure resturantâ¦ 1000dayswasted - narcosis infinite ep.. make me aware.. grinding neuro bass lifestyle   one of the world's greatest spoing events   lemans24 teamaudi  half way through the website now and allgoingwell very  good food, good life , enjoy and   ðððððð this is called ~garlic bread~ ... iloveitâ¦ i'll stand behind this guncontrolplease   senselessshootings taketheguns comicrelief stillsad i ate,i ate and i ate...ðð   jamaisasthi fish curry prawn hilsa foodfestival foodies   got my  limited edition rain or shine set today!!  !     &amp; love &amp; hugs &amp; kisses too! how to keep your baby     parenting healthcareð­ðð girls   sun fave @ london, united kingdom thought factory: bbc neutrality on right wing fascism  politics media blm brexit trump leadership &gt;3 hey guys tommorow is the last day of my exams i'm so happy yay        levyrroni recuerdos memoriesð­â¤ðð«ð recuerdos    friends life triunfodelamor my mind is like ððð½ð but my body like ðð´ðµð½....   sleepy stillallinðnever been this down on myself in my entire life.  check  twitterww - trends: \"trending worldwide 11:14 am bst\"1. oscarpistorius2. diplomalÄ±liselilerayakta3.  â¦i thought i saw a mermaid!!! ceegee  smcr   inshot girls cute summer blur sun  â¦  chick gets fucked hottest naked lady happy bday lucyâ¨â¨ð xoxo love beautiful pizza   instagood mileycyrus demilovatoâ¦  haroldfriday have a weekend filled with sunbeams everyone!   healthy weekend   tried that! but nothing - will try again! know you loved 2, but the 3rd light my fave &amp;deep rivers  i'll never be 120 again i'm   i'm a thick women blacktina  new  episode tk! and a really cool 2-year anniversary ep in the works for august. :o)   orangechicken   attack bull game 3d: do you really think that his head was empty around the city. each side suppo the taiji fisherman! no bullying! no racism! tweet4taiji thecove seashepherd i say we because i'm speaking collectively. i've always known. 2016 showed a lot.  andâ¦ wish we could talk  food time for haylie ð hot chocolate for mummy âï¸âð¤ðð¯ðªâ®ð¤ thank god it's friday!!! ððð  â¦  snow white --&gt; open! --&gt; sleepy,  , sneezy and bashful. @ or dm us today! []   bihday shilpashetty we wish you to have a very very successful yearretailer,manufacturer ladies cloth it wasn't me  lottery tomorrow will be fun! seeing an old friend and then shooting something super fun:)  raw food diet benefits! -    altwaystoheal healthy   healing peace joy love !!   trumps invested billions into saudi. he empowers the people funding isis.   trumpsahypocritemy granddaughter's 1st bihday is tomorrow.  going to pick her play house, little car, &amp; pool today.   ðððððððhappiest place on eah! disneyworld orlando castle   mickeymouse likechildrens  so baby dave is due to be born on october 26...my fav band of all time tool will be playing  the same weekend .....   lol  loving each other every day  morning sunshine! ð   smile sexy bigboobs this world makes me  ... jesus makes me happy... john 16:33 word truth faith peaceâ¦ foods for healing your body!!    doplants! healthy is  !! enjoying the sunshine! god is good. orlando sunshinestate goodlife bosslady joy  â¦     father's to my idol prg is there any reason for why the maintainers of the android do not provide more clear and basic code examples in their docs?  have a nice luxuryweek!!ó¾ó¾ monday neweek luxuryweek bestday staypositive   fun goodmoments lifestyle... cause me and  get to live together for a whole week!   cantwaittocook ðð    throw back thursday  bih day 2 my bro chegei am thankful for fun. thankful positive     i saw she's craying coz her baby so hard to breath     strong yeah baby god withâ¦ (at kaika medical center) â so this happened!   baby duedec2016 let's do this thing!   euro2016 it's time!! ðð¼ðð¼ðð¼â½ï¸â½ï¸ euro2016 onemonth 24teams onewinner football internationals   10thjune-10thjulymodel   i love u take with u all the time in urð±!!! ððððð¦ð¦ð¦  can lighttherapy help with sad or depression?    altwaystoheal  healthy is   !! have a very good sunday everyone ððð«ð·â½ï¸ð sunday morning   smile picofthedayâ¦ my cousins are asking why do i always where shawl...di ko lang masabi, 'coz po i'm getting fat and my braso is getting bigger!!!   baboyi believe r willingness 2 try 2 understand, 2 encourage &amp; 2 inspire others 2 b   &amp; grow is a greater spiritual purpose groktime for a pint before seeing coldplay in wembleyyyy ð³ðð   coldplay wembleystadiumâ¦ current mood.  goodnight happilyeverafter disney quotes   blessed thankful gratefulâ¦ chioma and noble igwe's special day chobs16 chobs2016  landmark_centre    cant believe i left school 5 years ago and now in 8 weeks time ill be teaching my own classes! dramateacher gettingoldlipo-light helped shape her, and it can help shape you. learn more  loseinches burnfat result   ahhh!! leaving for  tomorrow!!ððð¼ð­ð  eforest2016 electricforest plur  blessed to hear morning chorus, good morning the people.   fridayððaunti mi, where do you find this hilarious posts?  is nigeria not in enough trouble?   6 chapters left of my book &amp; then it's nearly complete kruella adaughterstale it will be a hard read emotional funnyâ¦  thrilled to be working with  over the coming months - more announcements very soon 2faceddancecompany trying out another way to make sourdough bread, this one may be underproofed   failed baking cool old door with window only $50.00 from vendor 509!! shoplocal shopalyssas fathersday     fathersday fatherday from  team!    greatbritain: all eyes on the skies as rafredarrows fly past the mall to say  â¦   8000 followers...we are blessed by all of you ,and love everyone that suppos us ...thx very much and   fishing and fâ¦ .    &lt;--- no more feeding at the public trough piggy. michelleobamaâ¦ website is live avon  makeup  fresh  look   and the forecast looks good for the weather all across bolton !   happy shootingð©ââ¤ï¸âðâð©ð· love monicaðð  sweet magazine thanku love   happy father's day ððð   fathers day fathersday dad ilovemydad ilovemyfather love stardivarius:    friday : new history and new outfit post   fashion look  friendsflâ¦   final countdown to the official us publication on june 1st   whyfontsmatter usa typography font book so happy that d trusted me to be the first to knowâ¤ð¶   lovelovelovebabiesinterview feat grandmaster flash - ze lovely message â«âªâ«â«âºâº nurap nudisco music paris   â«âªâ«  via i'm getting more hours at work for my training. i'm so   life right now is amazingð  successful positiveif social media is your reality you should really get out more. viual acceptance seems to really be a thing.   s ocialmedia ðª sevens tomorrowðª southwestseason ðfinalðagainst  next week  plus scrim with   wearebusy       your ignorant &amp; ill informed tweets r silly, childish &amp; one dimensional  great to see you! look forward to welcoming you to digme   jackblair - na: horny hot naughty nasty   slut young shy wet nude xxx sexy porn kinky snapshot   did u take both of them and pour them into one big cup, or what? no drink delivered.  ððððâ¤ï¸ððð» happy father's day dad hope u have a great day love u ððððâ¤ï¸ððð»  fathersday  loveyou i have been working on my anatomy studyguide since 5 pm and i am still not done   isuck plspassmeworry not.   daydream sunlight thunder miss dreams   distance silence pain sweetâ¦  getting ready for kubamba  fathers day kambua noel gg moh be blessedya know guys, i was feeling stressed out after the donut thing. i just feel so happy when i know 96 followers are sticking with me.  pa 2 å¶æãã«ã° ã»ã¼ã©ã¼æ ã«ã¼ãºã½ãã¯ã¹ ãã¤ã³ãã¼ã« jk ã®ã£ã« ãããªã³ åç ããª   fun memory bffð­ loveâ¦ electronic music from bogota colombia  puntohost cedm edm dj fashion music   back for some people! missingperson havingfunalone lonely   ð hothl ð¥ðð l o v e   sky photoofday moments cool instaphoto  paradise    good  mexicoâ¦ happy saturday tune (*^_^*) music saturday   edm many of my  alum friends are waking up shocked to hear of the death of scsu president. shocked    i'm disappointed in yesterday's argument. i wasn't even baselessly accused of living in my mothers basement. weak   badhey  - a $14000 ivanka bracelet? do you feel good profiting from xenophobia? misogyny? hatred? ? grabyourwalletshe was just loving him and he just saw her as a temporary setup.  happy euro 2016 eve euro2016   ðððªð½ðªð½  only 741 retweets in over half a day   that's because gun owners like my hubby &amp; me don't respect your fanaticism colourpop !!! ðððð   palladino : \"i'll say whatÂ iÂ feel like saying.â gopathetic lookwhatyoudid politics   madcow  save $$ no logins x brokers   me change memes love   education university   fursuit fucking   hardcore 2008  something was obviously really funny ð­ laugh girls smiles  â¦ fbf to when it was all staing!   how far  has come &amp; anxious for whatâ¦ i am thankful for films. thankful positive         on our way to oambo see you soon!!    sasocp16      always, always, always somebody else's fault...  bigot i have begun something new on this page &amp; am super   about it :)  it's daily tarot guidance with a... this how we turning up todayðð½ððð½ð whitegirlwasted   dramafree armedsecurityâ¦ qatil poetry   poetry eid poetry 2 lines sms eid ghazal urdu poetry dard poetry beutiful poetry + follow  send 4o4o4rip to all the victims.   usa prayfororlando terrorism victims lgbt suppo altogether pride stand i'm so   and grateful now that - affirmations   i read in an aicle 4 yrs before that even dhabas on the side of national highways are growing 1/2 acres of ganjas.   â¦drive in to see grease &amp; footloose âºï¸ð«    thank you steve!   i don't think it has quite sunk in though!  today was a good day! ð­happiestplaceoneah disneyland fun   walking sundayfundayâ¦ ltpst ðð and i need vitamin sea ðð  beach blue smile     today's meððð§ð»ðð¦ð  code white summer love   rainbow over wall street   a good way to end training!! officialrainbowspotterâ¦ water why?  ðit's going to be a great day! the day itself doesn't have a choice in the matter. feelinggood   proud feelingaccomplished motivated oh there is tons of stuff its like they won't do it, eah garbage dump  found this in my vault never posted it ð¬ selfie throwback boys guys love  â¦ happy friday!! wegotwheels car vw polo firstcar   ontheroad whitepolo newcarâ¦  all together this christmas: pls  &amp; follow  national day of action on 20 feb against  &amp; theâ¦ you might be a libtard if... libtard  sjw liberal politics withasumiðð»ð«ð yesterday shotdisneydisneyland  enjoy  why is game of thrones s5 no longer on sky box sets? mad   help  straight no chaser -   ( music video)  4u nonhockey people. hockeys babe ruth died. gordie howe was beyond myth and legend. hockey has lost mr. hockey.  does linkedin have anything in the works for giving free membership to canadian, australian and british veterans? justusvetsatm  michelleobama is looking a bit 'dishevelled...' is she thinking about spending her retirement visiting obama at aâ¦ out for dinner with my lukey boy ððlovehim   holidays orlando @ clear creek circleâ¦ can't wait to watch  with everyone at  this evening!   hahaha, that's a good point that i just totally skipped over. when you're 14, not a celebrity, and your dad is asking for $,  cat is out of the bag...fruit ninja   steam htcvive    -national-german-bestfriend-day maybe? ððð¤ð¼ i am.. really good at cooking..   credit to  for the mashed potatoes and mac n cheese! why are all our local mps so   about the downgrade of our hospital? savethealex pretty much the best advice ever. hydrated zerofucksgiven   friday sorrynotsorry liveâ¦ model alternative tattoo piercing   @ olde towne bellevue i just sent a msg to my aunt in peru and told her to wish my grandpa and uncles a happy father's day but didn't include my dad.    day   all the best to you!people aren't protesting trump because a republican won-they do so because trump has fuhered  &amp;â¦  at work: attorneys for white officer who shot philandocastile remove black judge from presiding over trial. phil spencer criticizes sony? of course! what else would you do when you just got slapped in the face by sony's huge 40 million+ dick!    we think sa is pretty great, and we canât wait to show you why twodaystogo countdown shhh   bringitonw;    and me cafeexpress stanupcomedy   crazyâ¦  trump's long history of  explained 1970's thru 2016 nevermypresident  theresistance happy mother's day to ppl.  my bff is in liverpool and i am so   ! first stop  for a flatwhite  coffeelovers bestfriends i love herð so tom hiddleston.... aka..lokie(excuse spelling) is the new jamesbond   scaryinthor bestchoicefornewjb ððððabout to watch these movies alone  one thinks this could be a bit of a punch up ð gameofthrones    \"i'm his princess.\"  me: i'm no one's princess...sadly.   cant wait for icon this weekend and can't wait to finally get one of these tatoos   icon16 laughing at the fact that all you mfz use this app to talk about what u feel inside for other people to see it haha  sterling   attack bull chase: when you leave the lot despite the fact that you're a strong source of fo i finally found a way how to delete old tweets! you might find it useful as well:    deletetweets   never a doubt on my pa,   many voted for him. sad for america.if you cut anyone with english dna in half you well find  written inside them.  vip ciniworld with caz   ð¬   ðseeing war craft in imax 3d ð warcraftmovie   imax woohoo model   i love u take with u all the time in urð±!!! ððððð¦ð¦ð¦    i burnt all the garlic bread devastated   :(model   i love u take with u all the time in urð±!!! ððððð¦ð¦ð¦    looked right at the cameraman as she grabbed katie's arm &amp; said \"can i talk to you\"   wow, everything you do is for tv?       we held one in march, which was great cpd for everyone ðð½ looking up some african news out of boredem, stumbled upon  and oh my god, site is racist as fuck against everything    dana is devestated that there hasn't been any trouble i am gorgeous. i_am positive affirmation       oh, so now he's admitting to having a small staff???  flipflopper disgraceful   because happy! because   instagram instagood instagram instapasspo instadailyâ¦ splashing around ð¦ðdogs bestdogever swimming healthy   goodvibes yoga fitnessâ¦ when people are so old and bored they resolve to bullying others over twitter    it isn't my love... it isn't....   there wasn't so much violence at the last euro!!  i wonder what happened,  is the brutal side coming back? euro2016 footbaâ¦i messed up my nails  can lighttherapy help with   or depression?    altwaystoheal  healthy is happy !! aww yeah it's all good bing bong bing bong   selfie srelfie! smile   me selfie followme f4f polishgirl polskadziewczyna how vera rubin overcame  and invented a whole field of scientific study  diversityinscience science steam  .    so sorry to read this after so much pain  \n"
          ]
        }
      ]
    },
    {
      "cell_type": "code",
      "source": [
        "from pandas.core.common import random_state\n",
        "wordCloud = WordCloud(width =500, height =300 , random_state= 21 , max_font_size =110).generate(allword)\n",
        "plt.imshow( wordCloud , interpolation = 'bilinear') # It is usually applied to functions sampled on a 2D rectilinear grid(bilinear interpolation)\n",
        "plt.axis('off')\n",
        "plt.show(wordCloud)\n",
        "\n"
      ],
      "metadata": {
        "colab": {
          "base_uri": "https://localhost:8080/",
          "height": 232
        },
        "id": "ImgXAS-jZxfC",
        "outputId": "aa1c9a71-0d4c-4f88-cf61-19a2e1ed4a80"
      },
      "execution_count": null,
      "outputs": [
        {
          "output_type": "display_data",
          "data": {
            "text/plain": [
              "<Figure size 432x288 with 1 Axes>"
            ],
            "image/png": "[encoded data removed]"
          },
          "metadata": {
            "needs_background": "light"
          }
        }
      ]
    },
    {
      "cell_type": "code",
      "source": [
        "#now we create a function to get negative positive or neutral analysis\n",
        "def getanalysis(score):\n",
        "  if score < 0:\n",
        "    return 'negative'\n",
        "  elif score ==0:\n",
        "    return 'neutral'\n",
        "  elif score > 0:\n",
        "    return 'positive'  \n"
      ],
      "metadata": {
        "id": "cvD0J1TpcJ0m"
      },
      "execution_count": null,
      "outputs": []
    },
    {
      "cell_type": "code",
      "source": [
        "df['Analysis'] = df['Polarity'].map(getanalysis)"
      ],
      "metadata": {
        "id": "jZs9l-0tfi6B"
      },
      "execution_count": null,
      "outputs": []
    },
    {
      "cell_type": "code",
      "source": [
        "df # show the dataframe"
      ],
      "metadata": {
        "colab": {
          "base_uri": "https://localhost:8080/",
          "height": 424
        },
        "id": "mo6kD7I2gANz",
        "outputId": "5dffac54-ded5-46e5-a953-2b96b77d68eb"
      },
      "execution_count": null,
      "outputs": [
        {
          "output_type": "execute_result",
          "data": {
            "text/plain": [
              "                                                 tweet  Subjectivity  \\\n",
              "0    studiolife aislife requires passion dedication...      0.000000   \n",
              "1      white supremacists want everyone to see the ...      0.227273   \n",
              "2    safe ways to heal your acne!!    altwaystoheal...      0.500000   \n",
              "3    is the hp and the cursed child book up for res...      1.000000   \n",
              "4      3rd bihday to my amazing, hilarious nephew e...      0.633333   \n",
              "..                                                 ...           ...   \n",
              "195  can lighttherapy help with   or depression?   ...      0.750000   \n",
              "196      aww yeah it's all good bing bong bing bong         0.750000   \n",
              "197  selfie srelfie! smile   me selfie followme f4f...      0.100000   \n",
              "198  how vera rubin overcame  and invented a whole ...      0.400000   \n",
              "199    .    so sorry to read this after so much pain        0.600000   \n",
              "\n",
              "     Polarity  Analysis  \n",
              "0    0.000000   neutral  \n",
              "1    0.068182  positive  \n",
              "2    0.781250  positive  \n",
              "3    0.500000  positive  \n",
              "4    0.408333  positive  \n",
              "..        ...       ...  \n",
              "195  0.750000  positive  \n",
              "196  0.500000  positive  \n",
              "197  0.300000  positive  \n",
              "198  0.200000  positive  \n",
              "199 -0.150000  negative  \n",
              "\n",
              "[200 rows x 4 columns]"
            ],
            "text/html": [
              "\n",
              "  <div id=\"df-fc1bd499-db51-4da3-8e6b-930bfe46145b\">\n",
              "    <div class=\"colab-df-container\">\n",
              "      <div>\n",
              "<style scoped>\n",
              "    .dataframe tbody tr th:only-of-type {\n",
              "        vertical-align: middle;\n",
              "    }\n",
              "\n",
              "    .dataframe tbody tr th {\n",
              "        vertical-align: top;\n",
              "    }\n",
              "\n",
              "    .dataframe thead th {\n",
              "        text-align: right;\n",
              "    }\n",
              "</style>\n",
              "<table border=\"1\" class=\"dataframe\">\n",
              "  <thead>\n",
              "    <tr style=\"text-align: right;\">\n",
              "      <th></th>\n",
              "      <th>tweet</th>\n",
              "      <th>Subjectivity</th>\n",
              "      <th>Polarity</th>\n",
              "      <th>Analysis</th>\n",
              "    </tr>\n",
              "  </thead>\n",
              "  <tbody>\n",
              "    <tr>\n",
              "      <th>0</th>\n",
              "      <td>studiolife aislife requires passion dedication...</td>\n",
              "      <td>0.000000</td>\n",
              "      <td>0.000000</td>\n",
              "      <td>neutral</td>\n",
              "    </tr>\n",
              "    <tr>\n",
              "      <th>1</th>\n",
              "      <td>white supremacists want everyone to see the ...</td>\n",
              "      <td>0.227273</td>\n",
              "      <td>0.068182</td>\n",
              "      <td>positive</td>\n",
              "    </tr>\n",
              "    <tr>\n",
              "      <th>2</th>\n",
              "      <td>safe ways to heal your acne!!    altwaystoheal...</td>\n",
              "      <td>0.500000</td>\n",
              "      <td>0.781250</td>\n",
              "      <td>positive</td>\n",
              "    </tr>\n",
              "    <tr>\n",
              "      <th>3</th>\n",
              "      <td>is the hp and the cursed child book up for res...</td>\n",
              "      <td>1.000000</td>\n",
              "      <td>0.500000</td>\n",
              "      <td>positive</td>\n",
              "    </tr>\n",
              "    <tr>\n",
              "      <th>4</th>\n",
              "      <td>3rd bihday to my amazing, hilarious nephew e...</td>\n",
              "      <td>0.633333</td>\n",
              "      <td>0.408333</td>\n",
              "      <td>positive</td>\n",
              "    </tr>\n",
              "    <tr>\n",
              "      <th>...</th>\n",
              "      <td>...</td>\n",
              "      <td>...</td>\n",
              "      <td>...</td>\n",
              "      <td>...</td>\n",
              "    </tr>\n",
              "    <tr>\n",
              "      <th>195</th>\n",
              "      <td>can lighttherapy help with   or depression?   ...</td>\n",
              "      <td>0.750000</td>\n",
              "      <td>0.750000</td>\n",
              "      <td>positive</td>\n",
              "    </tr>\n",
              "    <tr>\n",
              "      <th>196</th>\n",
              "      <td>aww yeah it's all good bing bong bing bong</td>\n",
              "      <td>0.750000</td>\n",
              "      <td>0.500000</td>\n",
              "      <td>positive</td>\n",
              "    </tr>\n",
              "    <tr>\n",
              "      <th>197</th>\n",
              "      <td>selfie srelfie! smile   me selfie followme f4f...</td>\n",
              "      <td>0.100000</td>\n",
              "      <td>0.300000</td>\n",
              "      <td>positive</td>\n",
              "    </tr>\n",
              "    <tr>\n",
              "      <th>198</th>\n",
              "      <td>how vera rubin overcame  and invented a whole ...</td>\n",
              "      <td>0.400000</td>\n",
              "      <td>0.200000</td>\n",
              "      <td>positive</td>\n",
              "    </tr>\n",
              "    <tr>\n",
              "      <th>199</th>\n",
              "      <td>.    so sorry to read this after so much pain</td>\n",
              "      <td>0.600000</td>\n",
              "      <td>-0.150000</td>\n",
              "      <td>negative</td>\n",
              "    </tr>\n",
              "  </tbody>\n",
              "</table>\n",
              "<p>200 rows × 4 columns</p>\n",
              "</div>\n",
              "      <button class=\"colab-df-convert\" onclick=\"convertToInteractive('df-fc1bd499-db51-4da3-8e6b-930bfe46145b')\"\n",
              "              title=\"Convert this dataframe to an interactive table.\"\n",
              "              style=\"display:none;\">\n",
              "        \n",
              "  <svg xmlns=\"http://www.w3.org/2000/svg\" height=\"24px\"viewBox=\"0 0 24 24\"\n",
              "       width=\"24px\">\n",
              "    <path d=\"M0 0h24v24H0V0z\" fill=\"none\"/>\n",
              "    <path d=\"M18.56 5.44l.94 2.06.94-2.06 2.06-.94-2.06-.94-.94-2.06-.94 2.06-2.06.94zm-11 1L8.5 8.5l.94-2.06 2.06-.94-2.06-.94L8.5 2.5l-.94 2.06-2.06.94zm10 10l.94 2.06.94-2.06 2.06-.94-2.06-.94-.94-2.06-.94 2.06-2.06.94z\"/><path d=\"M17.41 7.96l-1.37-1.37c-.4-.4-.92-.59-1.43-.59-.52 0-1.04.2-1.43.59L10.3 9.45l-7.72 7.72c-.78.78-.78 2.05 0 2.83L4 21.41c.39.39.9.59 1.41.59.51 0 1.02-.2 1.41-.59l7.78-7.78 2.81-2.81c.8-.78.8-2.07 0-2.86zM5.41 20L4 18.59l7.72-7.72 1.47 1.35L5.41 20z\"/>\n",
              "  </svg>\n",
              "      </button>\n",
              "      \n",
              "  <style>\n",
              "    .colab-df-container {\n",
              "      display:flex;\n",
              "      flex-wrap:wrap;\n",
              "      gap: 12px;\n",
              "    }\n",
              "\n",
              "    .colab-df-convert {\n",
              "      background-color: #E8F0FE;\n",
              "      border: none;\n",
              "      border-radius: 50%;\n",
              "      cursor: pointer;\n",
              "      display: none;\n",
              "      fill: #1967D2;\n",
              "      height: 32px;\n",
              "      padding: 0 0 0 0;\n",
              "      width: 32px;\n",
              "    }\n",
              "\n",
              "    .colab-df-convert:hover {\n",
              "      background-color: #E2EBFA;\n",
              "      box-shadow: 0px 1px 2px rgba(60, 64, 67, 0.3), 0px 1px 3px 1px rgba(60, 64, 67, 0.15);\n",
              "      fill: #174EA6;\n",
              "    }\n",
              "\n",
              "    [theme=dark] .colab-df-convert {\n",
              "      background-color: #3B4455;\n",
              "      fill: #D2E3FC;\n",
              "    }\n",
              "\n",
              "    [theme=dark] .colab-df-convert:hover {\n",
              "      background-color: #434B5C;\n",
              "      box-shadow: 0px 1px 3px 1px rgba(0, 0, 0, 0.15);\n",
              "      filter: drop-shadow(0px 1px 2px rgba(0, 0, 0, 0.3));\n",
              "      fill: #FFFFFF;\n",
              "    }\n",
              "  </style>\n",
              "\n",
              "      <script>\n",
              "        const buttonEl =\n",
              "          document.querySelector('#df-fc1bd499-db51-4da3-8e6b-930bfe46145b button.colab-df-convert');\n",
              "        buttonEl.style.display =\n",
              "          google.colab.kernel.accessAllowed ? 'block' : 'none';\n",
              "\n",
              "        async function convertToInteractive(key) {\n",
              "          const element = document.querySelector('#df-fc1bd499-db51-4da3-8e6b-930bfe46145b');\n",
              "          const dataTable =\n",
              "            await google.colab.kernel.invokeFunction('convertToInteractive',\n",
              "                                                     [key], {});\n",
              "          if (!dataTable) return;\n",
              "\n",
              "          const docLinkHtml = 'Like what you see? Visit the ' +\n",
              "            '<a target=\"_blank\" href=https://colab.research.google.com/notebooks/data_table.ipynb>data table notebook</a>'\n",
              "            + ' to learn more about interactive tables.';\n",
              "          element.innerHTML = '';\n",
              "          dataTable['output_type'] = 'display_data';\n",
              "          await google.colab.output.renderOutput(dataTable, element);\n",
              "          const docLink = document.createElement('div');\n",
              "          docLink.innerHTML = docLinkHtml;\n",
              "          element.appendChild(docLink);\n",
              "        }\n",
              "      </script>\n",
              "    </div>\n",
              "  </div>\n",
              "  "
            ]
          },
          "metadata": {},
          "execution_count": 23
        }
      ]
    },
    {
      "cell_type": "code",
      "source": [
        "#let print all the positivr tweets\n",
        "sorteddf=df.sort_values(by=['Polarity'])\n",
        "j=1\n",
        "for i in range(0,len(sorteddf)):\n",
        "  if (sorteddf['Analysis'][i]=='positive'):\n",
        "    print(str(j)+')'+sorteddf['tweet'][i])\n",
        "    print()\n",
        "    j=j+1\n"
      ],
      "metadata": {
        "colab": {
          "base_uri": "https://localhost:8080/"
        },
        "id": "Q6_1Z_4PgBM6",
        "outputId": "fbcd4b86-4053-4268-a785-1185dc6c441e"
      },
      "execution_count": null,
      "outputs": [
        {
          "output_type": "stream",
          "name": "stdout",
          "text": [
            "1)  white supremacists want everyone to see the new â  birdsâ movie â and hereâs why  \n",
            "\n",
            "2)safe ways to heal your acne!!    altwaystoheal healthy   healing!! \n",
            "\n",
            "3)is the hp and the cursed child book up for reservations already? if yes, where? if no, when? ððð   harrypotter pottermore favorite\n",
            "\n",
            "4)  3rd bihday to my amazing, hilarious nephew eli ahmir! uncle dave loves you and missesâ¦ \n",
            "\n",
            "5)choose to be   :) momtips \n",
            "\n",
            "6)delicious   food lovelife capetown mannaepicure resturantâ¦ \n",
            "\n",
            "7)1000dayswasted - narcosis infinite ep.. make me aware.. grinding neuro bass lifestyle   \n",
            "\n",
            "8)one of the world's greatest spoing events   lemans24 teamaudi  \n",
            "\n",
            "9)half way through the website now and allgoingwell very  \n",
            "\n",
            "10)good food, good life , enjoy and   ðððððð this is called ~garlic bread~ ... iloveitâ¦ \n",
            "\n",
            "11)&amp; love &amp; hugs &amp; kisses too! how to keep your baby     parenting healthcare\n",
            "\n",
            "12)thought factory: bbc neutrality on right wing fascism  politics media blm brexit trump leadership &gt;3 \n",
            "\n",
            "13)hey guys tommorow is the last day of my exams i'm so happy yay  \n",
            "\n",
            "14)i thought i saw a mermaid!!! ceegee  smcr   inshot girls cute summer blur sun  â¦ \n",
            "\n",
            "15)happy bday lucyâ¨â¨ð xoxo love beautiful pizza   instagood mileycyrus demilovatoâ¦ \n",
            "\n",
            "16) haroldfriday have a weekend filled with sunbeams everyone!   healthy weekend \n",
            "\n",
            "17)  tried that! but nothing - will try again! know you loved 2, but the 3rd light my fave &amp;deep rivers  \n",
            "\n",
            "18)  new  episode tk! and a really cool 2-year anniversary ep in the works for august. :o)   \n",
            "\n",
            "19)food time for haylie ð hot chocolate for mummy âï¸âð¤ðð¯ðªâ®ð¤ thank god it's friday!!! ððð  â¦ \n",
            "\n",
            "20)  bihday shilpashetty we wish you to have a very very successful yearretailer,manufacturer ladies cloth \n",
            "\n",
            "21)tomorrow will be fun! seeing an old friend and then shooting something super fun:)  \n",
            "\n",
            "22)raw food diet benefits! -    altwaystoheal healthy   healing peace joy love !! \n",
            "\n",
            "23)so baby dave is due to be born on october 26...my fav band of all time tool will be playing  the same weekend .....   lol\n",
            "\n",
            "24)  loving each other every day\n",
            "\n",
            "25)  morning sunshine! ð   smile sexy bigboobs \n",
            "\n",
            "26)this world makes me  ... jesus makes me happy... john 16:33 word truth faith peaceâ¦ \n",
            "\n",
            "27)foods for healing your body!!    doplants! healthy is  !! \n",
            "\n",
            "28)enjoying the sunshine! god is good. orlando sunshinestate goodlife bosslady joy  â¦ \n",
            "\n",
            "29) is there any reason for why the maintainers of the android do not provide more clear and basic code examples in their docs?  \n",
            "\n",
            "30)have a nice luxuryweek!!ó¾ó¾ monday neweek luxuryweek bestday staypositive   fun goodmoments lifestyle... \n",
            "\n",
            "31)cause me and  get to live together for a whole week!   cantwaittocook ðð\n",
            "\n",
            "32)i am thankful for fun. thankful positive     \n",
            "\n",
            "33)i saw she's craying coz her baby so hard to breath     strong yeah baby god withâ¦ (at kaika medical center) â \n",
            "\n",
            "34)model   i love u take with u all the time in urð±!!! ððððð¦ð¦ð¦  \n",
            "\n",
            "35)can lighttherapy help with sad or depression?    altwaystoheal  healthy is   !! \n",
            "\n",
            "36)have a very good sunday everyone ððð«ð·â½ï¸ð sunday morning   smile picofthedayâ¦ \n",
            "\n",
            "37)i believe r willingness 2 try 2 understand, 2 encourage &amp; 2 inspire others 2 b   &amp; grow is a greater spiritual purpose grok\n",
            "\n",
            "38)chioma and noble igwe's special day chobs16 chobs2016  landmark_centre    \n",
            "\n",
            "39)cant believe i left school 5 years ago and now in 8 weeks time ill be teaching my own classes! dramateacher gettingold\n",
            "\n",
            "40)lipo-light helped shape her, and it can help shape you. learn more  loseinches burnfat result   \n",
            "\n",
            "41)blessed to hear morning chorus, good morning the people.   fridayðð\n",
            "\n",
            "42)aunti mi, where do you find this hilarious posts?  is nigeria not in enough trouble? \n",
            "\n",
            "43)  thrilled to be working with  over the coming months - more announcements very soon 2faceddancecompany \n",
            "\n",
            "44)cool old door with window only $50.00 from vendor 509!! shoplocal shopalyssas fathersday   \n",
            "\n",
            "45)   greatbritain: all eyes on the skies as rafredarrows fly past the mall to say  â¦ \n",
            "\n",
            "46)  8000 followers...we are blessed by all of you ,and love everyone that suppos us ...thx very much and   fishing and fâ¦\n",
            "\n",
            "47)website is live avon  makeup  fresh  look   \n",
            "\n",
            "48)and the forecast looks good for the weather all across bolton ! \n",
            "\n",
            "49)  happy shootingð©ââ¤ï¸âðâð©ð· love monicaðð  sweet magazine thanku love   \n",
            "\n",
            "50)happy father's day ððð   fathers day fathersday dad ilovemydad ilovemyfather love \n",
            "\n",
            "51)stardivarius:    friday : new history and new outfit post   fashion look  friendsflâ¦ \n",
            "\n",
            "52)so happy that d trusted me to be the first to knowâ¤ð¶   lovelovelovebabies\n",
            "\n",
            "53)interview feat grandmaster flash - ze lovely message â«âªâ«â«âºâº nurap nudisco music paris   â«âªâ«  via \n",
            "\n",
            "54)i'm getting more hours at work for my training. i'm so   \n",
            "\n",
            "55)life right now is amazingð  successful positive\n",
            "\n",
            "56)if social media is your reality you should really get out more. viual acceptance seems to really be a thing.   s ocialmedia\n",
            "\n",
            "57)great to see you! look forward to welcoming you to digme   \n",
            "\n",
            "58)ððððâ¤ï¸ððð» happy father's day dad hope u have a great day love u ððððâ¤ï¸ððð»  fathersday  loveyou \n",
            "\n",
            "59) getting ready for kubamba  fathers day kambua noel gg moh be blessed\n",
            "\n",
            "60)ya know guys, i was feeling stressed out after the donut thing. i just feel so happy when i know 96 followers are sticking with me.  \n",
            "\n",
            "61)pa 2 å¶æãã«ã° ã»ã¼ã©ã¼æ ã«ã¼ãºã½ãã¯ã¹ ãã¤ã³ãã¼ã« jk ã®ã£ã« ãããªã³ åç ããª   fun memory bffð­ loveâ¦ \n",
            "\n",
            "62)l o v e   sky photoofday moments cool instaphoto  paradise    good  mexicoâ¦ \n",
            "\n",
            "63)happy saturday tune (*^_^*) music saturday   edm \n",
            "\n",
            "64)hey  - a $14000 ivanka bracelet? do you feel good profiting from xenophobia? misogyny? hatred? ? grabyourwallet\n",
            "\n",
            "65)she was just loving him and he just saw her as a temporary setup.  \n",
            "\n",
            "66)happy euro 2016 eve euro2016   ðððªð½ðªð½\n",
            "\n",
            "67)save $$ no logins x brokers   me change memes love   education university \n",
            "\n",
            "68)something was obviously really funny ð­ laugh girls smiles  â¦ \n",
            "\n",
            "69)i am thankful for films. thankful positive     \n",
            "\n",
            "70)i have begun something new on this page &amp; am super   about it :)  it's daily tarot guidance with a... \n",
            "\n",
            "71)  today was a good day! ð­happiestplaceoneah disneyland fun   walking sundayfundayâ¦ \n",
            "\n",
            "72)ltpst ðð and i need vitamin sea ðð  beach blue smile   \n",
            "\n",
            "73)  today's meððð§ð»ðð¦ð  code white summer love   \n",
            "\n",
            "74)rainbow over wall street   a good way to end training!! officialrainbowspotterâ¦ \n",
            "\n",
            "75)it's going to be a great day! the day itself doesn't have a choice in the matter. feelinggood   proud feelingaccomplished motivated\n",
            "\n",
            "76)found this in my vault never posted it ð¬ selfie throwback boys guys love  â¦ \n",
            "\n",
            "77)happy friday!! wegotwheels car vw polo firstcar   ontheroad whitepolo newcarâ¦ \n",
            "\n",
            "78) all together this christmas: pls  &amp; follow  national day of action on 20 feb against  &amp; theâ¦ \n",
            "\n",
            "79)withasumiðð»ð«ð yesterday shotdisneydisneyland  enjoy \n",
            "\n",
            "80)  straight no chaser -   ( music video)  \n",
            "\n",
            "81)does linkedin have anything in the works for giving free membership to canadian, australian and british veterans? justusvetsatm  \n",
            "\n",
            "82)out for dinner with my lukey boy ððlovehim   holidays orlando @ clear creek circleâ¦ \n",
            "\n",
            "83) hahaha, that's a good point that i just totally skipped over. when you're 14, not a celebrity, and your dad is asking for $,  \n",
            "\n",
            "84)i am.. really good at cooking..   credit to  for the mashed potatoes and mac n cheese! \n",
            "\n",
            "85)pretty much the best advice ever. hydrated zerofucksgiven   friday sorrynotsorry liveâ¦ \n",
            "\n",
            "86)i just sent a msg to my aunt in peru and told her to wish my grandpa and uncles a happy father's day but didn't include my dad.  \n",
            "\n",
            "87)  day   all the best to you!\n",
            "\n",
            "88)phil spencer criticizes sony? of course! what else would you do when you just got slapped in the face by sony's huge 40 million+ dick!  \n",
            "\n",
            "89)  we think sa is pretty great, and we canât wait to show you why twodaystogo countdown shhh   bringiton\n",
            "\n",
            "90)happy mother's day to ppl.  \n",
            "\n",
            "91)my bff is in liverpool and i am so   ! first stop  for a flatwhite  coffeelovers bestfriends \n",
            "\n",
            "92)i love herð \n",
            "\n",
            "93)so tom hiddleston.... aka..lokie(excuse spelling) is the new jamesbond   scaryinthor bestchoicefornewjb ðððð\n",
            "\n",
            "94)laughing at the fact that all you mfz use this app to talk about what u feel inside for other people to see it haha  \n",
            "\n",
            "95)sterling   attack bull chase: when you leave the lot despite the fact that you're a strong source of fo \n",
            "\n",
            "96)i finally found a way how to delete old tweets! you might find it useful as well:    deletetweets\n",
            "\n",
            "97)model   i love u take with u all the time in urð±!!! ððððð¦ð¦ð¦  \n",
            "\n",
            "98)model   i love u take with u all the time in urð±!!! ððððð¦ð¦ð¦  \n",
            "\n",
            "99)  looked right at the cameraman as she grabbed katie's arm &amp; said \"can i talk to you\"   wow, everything you do is for tv?  \n",
            "\n",
            "100)     we held one in march, which was great cpd for everyone ðð½ \n",
            "\n",
            "101)i am gorgeous. i_am positive affirmation     \n",
            "\n",
            "102)because happy! because   instagram instagood instagram instapasspo instadailyâ¦ \n",
            "\n",
            "103)splashing around ð¦ðdogs bestdogever swimming healthy   goodvibes yoga fitnessâ¦ \n",
            "\n",
            "104)  it isn't my love... it isn't.... \n",
            "\n",
            "105)can lighttherapy help with   or depression?    altwaystoheal  healthy is happy !! \n",
            "\n",
            "106)aww yeah it's all good bing bong bing bong   \n",
            "\n",
            "107)selfie srelfie! smile   me selfie followme f4f polishgirl polskadziewczyna \n",
            "\n",
            "108)how vera rubin overcame  and invented a whole field of scientific study  diversityinscience science steam\n",
            "\n"
          ]
        }
      ]
    },
    {
      "cell_type": "code",
      "source": [
        "#let print the negative tweets\n",
        "sortedDF = df.sort_values(by=['Polarity'],ascending = False)\n",
        "for i in range(0,len(sortedDF)):\n",
        "  if (sortedDF['Analysis'][i]== 'negative'):\n",
        "    print(str(j)+')'+sortedDF['tweet'][i])\n",
        "    j=j+1\n",
        "    \n",
        "\n",
        "   \n"
      ],
      "metadata": {
        "colab": {
          "base_uri": "https://localhost:8080/"
        },
        "id": "BME3LtjEntbC",
        "outputId": "bfe07204-bb32-446c-9c56-1b3bc5f71edc"
      },
      "execution_count": null,
      "outputs": [
        {
          "output_type": "stream",
          "name": "stdout",
          "text": [
            "109)something inside me dies ð¦ð¿â¨  eyes ness smokeyeyes tired  lonely sof grungeâ¦ \n",
            "110)    i will never understand why my dad left me when i was so young.... :/ deep inthefeels  \n",
            "111)i'll stand behind this guncontrolplease   senselessshootings taketheguns comicrelief stillsad \n",
            "112)  got my  limited edition rain or shine set today!!  !     \n",
            "113)never been this down on myself in my entire life.  \n",
            "114) chick gets fucked hottest naked lady \n",
            "115)i'll never be 120 again i'm   i'm a thick women blacktina\n",
            "116)orangechicken   attack bull game 3d: do you really think that his head was empty around the city. each side \n",
            "117)my granddaughter's 1st bihday is tomorrow.  going to pick her play house, little car, &amp; pool today.   ððððððð\n",
            "118)  6 chapters left of my book &amp; then it's nearly complete kruella adaughterstale it will be a hard read emotional funnyâ¦\n",
            "119)trying out another way to make sourdough bread, this one may be underproofed   failed baking \n",
            "120) .    &lt;--- no more feeding at the public trough piggy. michelleobamaâ¦ \n",
            "121)     your ignorant &amp; ill informed tweets r silly, childish &amp; one dimensional  \n",
            "122)jackblair - na: horny hot naughty nasty   slut young shy wet nude xxx sexy porn kinky snapshot \n",
            "123)back for some people! missingperson havingfunalone lonely   ð hothl ð¥ðð \n",
            "124)many of my  alum friends are waking up shocked to hear of the death of scsu president. shocked   \n",
            "125) i'm disappointed in yesterday's argument. i wasn't even baselessly accused of living in my mothers basement. weak   bad\n",
            "126)  only 741 retweets in over half a day   that's because gun owners like my hubby &amp; me don't respect your fanaticism \n",
            "127)  fursuit fucking   hardcore 2008  \n",
            "128)fbf to when it was all staing!   how far  has come &amp; anxious for whatâ¦ \n",
            "129) why is game of thrones s5 no longer on sky box sets? mad   help\n",
            "130) at work: attorneys for white officer who shot philandocastile remove black judge from presiding over trial. \n",
            "131) trump's long history of  explained 1970's thru 2016 nevermypresident  theresistance \n",
            "132)if you cut anyone with english dna in half you well find  written inside them.\n",
            "133)  i burnt all the garlic bread devastated   :(\n",
            "134)looking up some african news out of boredem, stumbled upon  and oh my god, site is racist as fuck against everything  \n",
            "135)  dana is devestated that there hasn't been any trouble \n",
            "136)  oh, so now he's admitting to having a small staff???  flipflopper disgraceful   \n",
            "137)when people are so old and bored they resolve to bullying others over twitter  \n",
            "138)  there wasn't so much violence at the last euro!!  i wonder what happened,  is the brutal side coming back? euro2016 footbaâ¦\n",
            "139)  .    so sorry to read this after so much pain  \n"
          ]
        }
      ]
    },
    {
      "cell_type": "code",
      "source": [
        "#plot polarity and subjectivity\n",
        "plt.figure(figsize=(8,6))\n",
        "for i in range(0,len(df)):\n",
        "  plt.scatter(df['Polarity'][i],df['Subjectivity'][i],color='blue')\n",
        "plt.title('Sentimental Analysis')  \n",
        "plt.xlabel('Polarity')\n",
        "plt.ylabel('Subjectivity')"
      ],
      "metadata": {
        "colab": {
          "base_uri": "https://localhost:8080/",
          "height": 421
        },
        "id": "aI6AaMBRq6oc",
        "outputId": "706ba3f3-cce3-46a7-9567-c0cef93371e4"
      },
      "execution_count": null,
      "outputs": [
        {
          "output_type": "execute_result",
          "data": {
            "text/plain": [
              "Text(0, 0.5, 'Subjectivity')"
            ]
          },
          "metadata": {},
          "execution_count": 26
        },
        {
          "output_type": "display_data",
          "data": {
            "text/plain": [
              "<Figure size 576x432 with 1 Axes>"
            ],
            "image/png": "[encoded data removed]"
          },
          "metadata": {
            "needs_background": "light"
          }
        }
      ]
    },
    {
      "cell_type": "code",
      "source": [
        "#get the percentage of positive tweet\n",
        "ptweet = df[df.Analysis=='positive']\n",
        "print((len(ptweet)/len(df))*100)"
      ],
      "metadata": {
        "colab": {
          "base_uri": "https://localhost:8080/"
        },
        "id": "pBSwf6i7wO6b",
        "outputId": "bfbde5e5-1987-47ff-cf53-941d20114f6d"
      },
      "execution_count": null,
      "outputs": [
        {
          "output_type": "stream",
          "name": "stdout",
          "text": [
            "54.0\n"
          ]
        }
      ]
    },
    {
      "cell_type": "code",
      "source": [
        "#get the percentage of negative tweet\n",
        "ntweet = df[df.Analysis=='negative']\n",
        "print((len(ntweet)/len(df))*100)"
      ],
      "metadata": {
        "colab": {
          "base_uri": "https://localhost:8080/"
        },
        "id": "bn3I5YmV2IJh",
        "outputId": "9d7d0513-472f-4848-8f3f-0e72ab77b4f1"
      },
      "execution_count": null,
      "outputs": [
        {
          "output_type": "stream",
          "name": "stdout",
          "text": [
            "15.5\n"
          ]
        }
      ]
    },
    {
      "cell_type": "code",
      "source": [
        "#get the percentage of neutral tweet\n",
        "ntweet = df[df.Analysis=='neutral']\n",
        "print((len(ntweet)/len(df))*100)"
      ],
      "metadata": {
        "colab": {
          "base_uri": "https://localhost:8080/"
        },
        "id": "9hB_8STd25eK",
        "outputId": "67d06a76-293e-4ea9-8978-014d5fe2dcf2"
      },
      "execution_count": null,
      "outputs": [
        {
          "output_type": "stream",
          "name": "stdout",
          "text": [
            "30.5\n"
          ]
        }
      ]
    },
    {
      "cell_type": "code",
      "source": [
        "df['Analysis'].value_counts() # count number of positive negative and neutral values\n",
        "\n",
        "df['Analysis'].value_counts().plot( kind ='bar',color= 'red')\n",
        "plt.xlabel(\"sentiments\")\n",
        "plt.ylabel(\"counts\")\n",
        "plt.title(\"sentiment vs counts\")\n",
        "plt.show()\n",
        " "
      ],
      "metadata": {
        "colab": {
          "base_uri": "https://localhost:8080/",
          "height": 329
        },
        "id": "Mp54BeYU3C2-",
        "outputId": "71f17fe9-d420-4111-abd2-d4b171e400bf"
      },
      "execution_count": null,
      "outputs": [
        {
          "output_type": "display_data",
          "data": {
            "text/plain": [
              "<Figure size 432x288 with 1 Axes>"
            ],
            "image/png": "[encoded data removed]"
          },
          "metadata": {
            "needs_background": "light"
          }
        }
      ]
    },
    {
      "cell_type": "code",
      "source": [
        ""
      ],
      "metadata": {
        "id": "pH_-OM1b8T9p"
      },
      "execution_count": null,
      "outputs": []
    }
  ]
}